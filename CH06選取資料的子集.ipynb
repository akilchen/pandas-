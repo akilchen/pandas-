{
  "nbformat": 4,
  "nbformat_minor": 0,
  "metadata": {
    "colab": {
      "provenance": [],
      "authorship_tag": "ABX9TyM4iypKKiW5QlTVaMsCzkBF",
      "include_colab_link": true
    },
    "kernelspec": {
      "name": "python3",
      "display_name": "Python 3"
    },
    "language_info": {
      "name": "python"
    }
  },
  "cells": [
    {
      "cell_type": "markdown",
      "metadata": {
        "id": "view-in-github",
        "colab_type": "text"
      },
      "source": [
        "<a href=\"https://colab.research.google.com/github/akilchen/pandas_exercise/blob/main/CH06%E9%81%B8%E5%8F%96%E8%B3%87%E6%96%99%E7%9A%84%E5%AD%90%E9%9B%86.ipynb\" target=\"_parent\"><img src=\"https://colab.research.google.com/assets/colab-badge.svg\" alt=\"Open In Colab\"/></a>"
      ]
    },
    {
      "cell_type": "code",
      "execution_count": 1,
      "metadata": {
        "colab": {
          "base_uri": "https://localhost:8080/"
        },
        "id": "21cOsPM_2K0w",
        "outputId": "8aeca7e7-4745-4c1c-9bf4-f9b58dedeadd"
      },
      "outputs": [
        {
          "output_type": "stream",
          "name": "stdout",
          "text": [
            "Mounted at /content/drive\n"
          ]
        }
      ],
      "source": [
        "from google.colab import drive\n",
        "drive.mount('/content/drive')\n",
        "import pandas as pd\n",
        "import numpy as np"
      ]
    },
    {
      "cell_type": "markdown",
      "source": [
        "# **6.1 選取一筆或多筆Series資料**"
      ],
      "metadata": {
        "id": "KTCrNo7l2URu"
      }
    },
    {
      "cell_type": "markdown",
      "source": [
        "01 讀取college.csv,用[]選取名為CITY的col_name,傳回Series物件存成city變數"
      ],
      "metadata": {
        "id": "8JrqLdb53S5o"
      }
    },
    {
      "cell_type": "code",
      "source": [
        "college = pd.read_csv('/content/drive/MyDrive/Pandas/data/college.csv',index_col='INSTNM')\n",
        "city = college['CITY']\n",
        "city"
      ],
      "metadata": {
        "colab": {
          "base_uri": "https://localhost:8080/",
          "height": 489
        },
        "id": "fX4YFZdt2ooI",
        "outputId": "2771ac09-bdfa-4640-fe9c-06185dfb4654"
      },
      "execution_count": 3,
      "outputs": [
        {
          "output_type": "execute_result",
          "data": {
            "text/plain": [
              "INSTNM\n",
              "Alabama A & M University                                            Normal\n",
              "University of Alabama at Birmingham                             Birmingham\n",
              "Amridge University                                              Montgomery\n",
              "University of Alabama in Huntsville                             Huntsville\n",
              "Alabama State University                                        Montgomery\n",
              "                                                                ...       \n",
              "SAE Institute of Technology  San Francisco                      Emeryville\n",
              "Rasmussen College - Overland Park                            Overland Park\n",
              "National Personal Training Institute of Cleveland         Highland Heights\n",
              "Bay Area Medical Academy - San Jose Satellite Location            San Jose\n",
              "Excel Learning Center-San Antonio South                        San Antonio\n",
              "Name: CITY, Length: 7535, dtype: object"
            ],
            "text/html": [
              "<div>\n",
              "<style scoped>\n",
              "    .dataframe tbody tr th:only-of-type {\n",
              "        vertical-align: middle;\n",
              "    }\n",
              "\n",
              "    .dataframe tbody tr th {\n",
              "        vertical-align: top;\n",
              "    }\n",
              "\n",
              "    .dataframe thead th {\n",
              "        text-align: right;\n",
              "    }\n",
              "</style>\n",
              "<table border=\"1\" class=\"dataframe\">\n",
              "  <thead>\n",
              "    <tr style=\"text-align: right;\">\n",
              "      <th></th>\n",
              "      <th>CITY</th>\n",
              "    </tr>\n",
              "    <tr>\n",
              "      <th>INSTNM</th>\n",
              "      <th></th>\n",
              "    </tr>\n",
              "  </thead>\n",
              "  <tbody>\n",
              "    <tr>\n",
              "      <th>Alabama A &amp; M University</th>\n",
              "      <td>Normal</td>\n",
              "    </tr>\n",
              "    <tr>\n",
              "      <th>University of Alabama at Birmingham</th>\n",
              "      <td>Birmingham</td>\n",
              "    </tr>\n",
              "    <tr>\n",
              "      <th>Amridge University</th>\n",
              "      <td>Montgomery</td>\n",
              "    </tr>\n",
              "    <tr>\n",
              "      <th>University of Alabama in Huntsville</th>\n",
              "      <td>Huntsville</td>\n",
              "    </tr>\n",
              "    <tr>\n",
              "      <th>Alabama State University</th>\n",
              "      <td>Montgomery</td>\n",
              "    </tr>\n",
              "    <tr>\n",
              "      <th>...</th>\n",
              "      <td>...</td>\n",
              "    </tr>\n",
              "    <tr>\n",
              "      <th>SAE Institute of Technology  San Francisco</th>\n",
              "      <td>Emeryville</td>\n",
              "    </tr>\n",
              "    <tr>\n",
              "      <th>Rasmussen College - Overland Park</th>\n",
              "      <td>Overland Park</td>\n",
              "    </tr>\n",
              "    <tr>\n",
              "      <th>National Personal Training Institute of Cleveland</th>\n",
              "      <td>Highland Heights</td>\n",
              "    </tr>\n",
              "    <tr>\n",
              "      <th>Bay Area Medical Academy - San Jose Satellite Location</th>\n",
              "      <td>San Jose</td>\n",
              "    </tr>\n",
              "    <tr>\n",
              "      <th>Excel Learning Center-San Antonio South</th>\n",
              "      <td>San Antonio</td>\n",
              "    </tr>\n",
              "  </tbody>\n",
              "</table>\n",
              "<p>7535 rows × 1 columns</p>\n",
              "</div><br><label><b>dtype:</b> object</label>"
            ]
          },
          "metadata": {},
          "execution_count": 3
        }
      ]
    },
    {
      "cell_type": "markdown",
      "source": [
        "02 直接從傳回的Series中，用[]按照index label來選取資料"
      ],
      "metadata": {
        "id": "fOPNmxb94Yvw"
      }
    },
    {
      "cell_type": "code",
      "source": [
        "city['Alabama A & M University']"
      ],
      "metadata": {
        "colab": {
          "base_uri": "https://localhost:8080/",
          "height": 35
        },
        "id": "rCfh97Uf30Lq",
        "outputId": "36a7856e-3e24-4c6d-99db-49818d9645f2"
      },
      "execution_count": 4,
      "outputs": [
        {
          "output_type": "execute_result",
          "data": {
            "text/plain": [
              "'Normal'"
            ],
            "application/vnd.google.colaboratory.intrinsic+json": {
              "type": "string"
            }
          },
          "metadata": {},
          "execution_count": 4
        }
      ]
    },
    {
      "cell_type": "markdown",
      "source": [
        "03 使用loc按index label來做同樣的事情"
      ],
      "metadata": {
        "id": "DcNJHdfs422b"
      }
    },
    {
      "cell_type": "code",
      "source": [
        "city.loc['Alabama A & M University']"
      ],
      "metadata": {
        "colab": {
          "base_uri": "https://localhost:8080/",
          "height": 35
        },
        "id": "vmS8N5Lz4rO4",
        "outputId": "fb9b844b-b1cf-4379-a320-c31d26072123"
      },
      "execution_count": 5,
      "outputs": [
        {
          "output_type": "execute_result",
          "data": {
            "text/plain": [
              "'Normal'"
            ],
            "application/vnd.google.colaboratory.intrinsic+json": {
              "type": "string"
            }
          },
          "metadata": {},
          "execution_count": 5
        }
      ]
    },
    {
      "cell_type": "markdown",
      "source": [
        "04 使用iloc按照位置屬性作相同的事情"
      ],
      "metadata": {
        "id": "AoZum0-T5Qzr"
      }
    },
    {
      "cell_type": "code",
      "source": [
        "city.iloc[0]"
      ],
      "metadata": {
        "colab": {
          "base_uri": "https://localhost:8080/",
          "height": 35
        },
        "id": "rheSxkE45Wmn",
        "outputId": "e8fcdb0e-aba8-4fe7-9e94-9272722d810e"
      },
      "execution_count": 6,
      "outputs": [
        {
          "output_type": "execute_result",
          "data": {
            "text/plain": [
              "'Normal'"
            ],
            "application/vnd.google.colaboratory.intrinsic+json": {
              "type": "string"
            }
          },
          "metadata": {},
          "execution_count": 6
        }
      ]
    },
    {
      "cell_type": "markdown",
      "source": [
        "05 將多個包含index label的list放進[]中，就可以同時選取多筆資料。"
      ],
      "metadata": {
        "id": "ONJ303DM5hna"
      }
    },
    {
      "cell_type": "code",
      "source": [
        "city[['Alabama A & M University','Florida State University']]"
      ],
      "metadata": {
        "colab": {
          "base_uri": "https://localhost:8080/",
          "height": 178
        },
        "id": "XYOqIefd5Zqt",
        "outputId": "22472eb2-14d0-48f9-e355-a63b02426c94"
      },
      "execution_count": 8,
      "outputs": [
        {
          "output_type": "execute_result",
          "data": {
            "text/plain": [
              "INSTNM\n",
              "Alabama A & M University         Normal\n",
              "Florida State University    Tallahassee\n",
              "Name: CITY, dtype: object"
            ],
            "text/html": [
              "<div>\n",
              "<style scoped>\n",
              "    .dataframe tbody tr th:only-of-type {\n",
              "        vertical-align: middle;\n",
              "    }\n",
              "\n",
              "    .dataframe tbody tr th {\n",
              "        vertical-align: top;\n",
              "    }\n",
              "\n",
              "    .dataframe thead th {\n",
              "        text-align: right;\n",
              "    }\n",
              "</style>\n",
              "<table border=\"1\" class=\"dataframe\">\n",
              "  <thead>\n",
              "    <tr style=\"text-align: right;\">\n",
              "      <th></th>\n",
              "      <th>CITY</th>\n",
              "    </tr>\n",
              "    <tr>\n",
              "      <th>INSTNM</th>\n",
              "      <th></th>\n",
              "    </tr>\n",
              "  </thead>\n",
              "  <tbody>\n",
              "    <tr>\n",
              "      <th>Alabama A &amp; M University</th>\n",
              "      <td>Normal</td>\n",
              "    </tr>\n",
              "    <tr>\n",
              "      <th>Florida State University</th>\n",
              "      <td>Tallahassee</td>\n",
              "    </tr>\n",
              "  </tbody>\n",
              "</table>\n",
              "</div><br><label><b>dtype:</b> object</label>"
            ]
          },
          "metadata": {},
          "execution_count": 8
        }
      ]
    },
    {
      "cell_type": "markdown",
      "source": [
        "06 使用iloc做相同的事"
      ],
      "metadata": {
        "id": "auxtxwcG6KVi"
      }
    },
    {
      "cell_type": "code",
      "source": [
        "city.iloc[[0,1]]"
      ],
      "metadata": {
        "colab": {
          "base_uri": "https://localhost:8080/",
          "height": 178
        },
        "id": "h99VaCNh57ua",
        "outputId": "7be067ea-bb1d-45b3-d4ff-e862724fa0e7"
      },
      "execution_count": 9,
      "outputs": [
        {
          "output_type": "execute_result",
          "data": {
            "text/plain": [
              "INSTNM\n",
              "Alabama A & M University                   Normal\n",
              "University of Alabama at Birmingham    Birmingham\n",
              "Name: CITY, dtype: object"
            ],
            "text/html": [
              "<div>\n",
              "<style scoped>\n",
              "    .dataframe tbody tr th:only-of-type {\n",
              "        vertical-align: middle;\n",
              "    }\n",
              "\n",
              "    .dataframe tbody tr th {\n",
              "        vertical-align: top;\n",
              "    }\n",
              "\n",
              "    .dataframe thead th {\n",
              "        text-align: right;\n",
              "    }\n",
              "</style>\n",
              "<table border=\"1\" class=\"dataframe\">\n",
              "  <thead>\n",
              "    <tr style=\"text-align: right;\">\n",
              "      <th></th>\n",
              "      <th>CITY</th>\n",
              "    </tr>\n",
              "    <tr>\n",
              "      <th>INSTNM</th>\n",
              "      <th></th>\n",
              "    </tr>\n",
              "  </thead>\n",
              "  <tbody>\n",
              "    <tr>\n",
              "      <th>Alabama A &amp; M University</th>\n",
              "      <td>Normal</td>\n",
              "    </tr>\n",
              "    <tr>\n",
              "      <th>University of Alabama at Birmingham</th>\n",
              "      <td>Birmingham</td>\n",
              "    </tr>\n",
              "  </tbody>\n",
              "</table>\n",
              "</div><br><label><b>dtype:</b> object</label>"
            ]
          },
          "metadata": {},
          "execution_count": 9
        }
      ]
    },
    {
      "cell_type": "markdown",
      "source": [
        "08 使用[]搭配slicing來選取多個值。"
      ],
      "metadata": {
        "id": "VfzSc44H6YTJ"
      }
    },
    {
      "cell_type": "code",
      "source": [
        "city['Alabama A & M University':'Alabama State University']"
      ],
      "metadata": {
        "colab": {
          "base_uri": "https://localhost:8080/",
          "height": 272
        },
        "id": "gb3tFNZs6VID",
        "outputId": "a4e5f396-16d3-4edf-f67a-e66e69e4ffd3"
      },
      "execution_count": 10,
      "outputs": [
        {
          "output_type": "execute_result",
          "data": {
            "text/plain": [
              "INSTNM\n",
              "Alabama A & M University                   Normal\n",
              "University of Alabama at Birmingham    Birmingham\n",
              "Amridge University                     Montgomery\n",
              "University of Alabama in Huntsville    Huntsville\n",
              "Alabama State University               Montgomery\n",
              "Name: CITY, dtype: object"
            ],
            "text/html": [
              "<div>\n",
              "<style scoped>\n",
              "    .dataframe tbody tr th:only-of-type {\n",
              "        vertical-align: middle;\n",
              "    }\n",
              "\n",
              "    .dataframe tbody tr th {\n",
              "        vertical-align: top;\n",
              "    }\n",
              "\n",
              "    .dataframe thead th {\n",
              "        text-align: right;\n",
              "    }\n",
              "</style>\n",
              "<table border=\"1\" class=\"dataframe\">\n",
              "  <thead>\n",
              "    <tr style=\"text-align: right;\">\n",
              "      <th></th>\n",
              "      <th>CITY</th>\n",
              "    </tr>\n",
              "    <tr>\n",
              "      <th>INSTNM</th>\n",
              "      <th></th>\n",
              "    </tr>\n",
              "  </thead>\n",
              "  <tbody>\n",
              "    <tr>\n",
              "      <th>Alabama A &amp; M University</th>\n",
              "      <td>Normal</td>\n",
              "    </tr>\n",
              "    <tr>\n",
              "      <th>University of Alabama at Birmingham</th>\n",
              "      <td>Birmingham</td>\n",
              "    </tr>\n",
              "    <tr>\n",
              "      <th>Amridge University</th>\n",
              "      <td>Montgomery</td>\n",
              "    </tr>\n",
              "    <tr>\n",
              "      <th>University of Alabama in Huntsville</th>\n",
              "      <td>Huntsville</td>\n",
              "    </tr>\n",
              "    <tr>\n",
              "      <th>Alabama State University</th>\n",
              "      <td>Montgomery</td>\n",
              "    </tr>\n",
              "  </tbody>\n",
              "</table>\n",
              "</div><br><label><b>dtype:</b> object</label>"
            ]
          },
          "metadata": {},
          "execution_count": 10
        }
      ]
    },
    {
      "cell_type": "markdown",
      "source": [
        "09 使用[]搭配位置slicing選取多個值"
      ],
      "metadata": {
        "id": "KLlSmaST6y9l"
      }
    },
    {
      "cell_type": "code",
      "source": [
        "city[0:5]"
      ],
      "metadata": {
        "colab": {
          "base_uri": "https://localhost:8080/",
          "height": 272
        },
        "id": "zfz-ivcS6t85",
        "outputId": "701aa7b3-f8dc-4ecb-f6c7-33b34aa7b0fc"
      },
      "execution_count": 11,
      "outputs": [
        {
          "output_type": "execute_result",
          "data": {
            "text/plain": [
              "INSTNM\n",
              "Alabama A & M University                   Normal\n",
              "University of Alabama at Birmingham    Birmingham\n",
              "Amridge University                     Montgomery\n",
              "University of Alabama in Huntsville    Huntsville\n",
              "Alabama State University               Montgomery\n",
              "Name: CITY, dtype: object"
            ],
            "text/html": [
              "<div>\n",
              "<style scoped>\n",
              "    .dataframe tbody tr th:only-of-type {\n",
              "        vertical-align: middle;\n",
              "    }\n",
              "\n",
              "    .dataframe tbody tr th {\n",
              "        vertical-align: top;\n",
              "    }\n",
              "\n",
              "    .dataframe thead th {\n",
              "        text-align: right;\n",
              "    }\n",
              "</style>\n",
              "<table border=\"1\" class=\"dataframe\">\n",
              "  <thead>\n",
              "    <tr style=\"text-align: right;\">\n",
              "      <th></th>\n",
              "      <th>CITY</th>\n",
              "    </tr>\n",
              "    <tr>\n",
              "      <th>INSTNM</th>\n",
              "      <th></th>\n",
              "    </tr>\n",
              "  </thead>\n",
              "  <tbody>\n",
              "    <tr>\n",
              "      <th>Alabama A &amp; M University</th>\n",
              "      <td>Normal</td>\n",
              "    </tr>\n",
              "    <tr>\n",
              "      <th>University of Alabama at Birmingham</th>\n",
              "      <td>Birmingham</td>\n",
              "    </tr>\n",
              "    <tr>\n",
              "      <th>Amridge University</th>\n",
              "      <td>Montgomery</td>\n",
              "    </tr>\n",
              "    <tr>\n",
              "      <th>University of Alabama in Huntsville</th>\n",
              "      <td>Huntsville</td>\n",
              "    </tr>\n",
              "    <tr>\n",
              "      <th>Alabama State University</th>\n",
              "      <td>Montgomery</td>\n",
              "    </tr>\n",
              "  </tbody>\n",
              "</table>\n",
              "</div><br><label><b>dtype:</b> object</label>"
            ]
          },
          "metadata": {},
          "execution_count": 11
        }
      ]
    },
    {
      "cell_type": "markdown",
      "source": [
        "10 使用loc[]搭配label slicing做相同的事情"
      ],
      "metadata": {
        "id": "MqPedzS37PgR"
      }
    },
    {
      "cell_type": "code",
      "source": [
        "city.loc['Alabama A & M University':'Alabama State University']"
      ],
      "metadata": {
        "colab": {
          "base_uri": "https://localhost:8080/",
          "height": 272
        },
        "id": "U6kHZa6o7V9s",
        "outputId": "63cdfea0-84c2-4c13-9f28-731a4cc0b0e4"
      },
      "execution_count": 12,
      "outputs": [
        {
          "output_type": "execute_result",
          "data": {
            "text/plain": [
              "INSTNM\n",
              "Alabama A & M University                   Normal\n",
              "University of Alabama at Birmingham    Birmingham\n",
              "Amridge University                     Montgomery\n",
              "University of Alabama in Huntsville    Huntsville\n",
              "Alabama State University               Montgomery\n",
              "Name: CITY, dtype: object"
            ],
            "text/html": [
              "<div>\n",
              "<style scoped>\n",
              "    .dataframe tbody tr th:only-of-type {\n",
              "        vertical-align: middle;\n",
              "    }\n",
              "\n",
              "    .dataframe tbody tr th {\n",
              "        vertical-align: top;\n",
              "    }\n",
              "\n",
              "    .dataframe thead th {\n",
              "        text-align: right;\n",
              "    }\n",
              "</style>\n",
              "<table border=\"1\" class=\"dataframe\">\n",
              "  <thead>\n",
              "    <tr style=\"text-align: right;\">\n",
              "      <th></th>\n",
              "      <th>CITY</th>\n",
              "    </tr>\n",
              "    <tr>\n",
              "      <th>INSTNM</th>\n",
              "      <th></th>\n",
              "    </tr>\n",
              "  </thead>\n",
              "  <tbody>\n",
              "    <tr>\n",
              "      <th>Alabama A &amp; M University</th>\n",
              "      <td>Normal</td>\n",
              "    </tr>\n",
              "    <tr>\n",
              "      <th>University of Alabama at Birmingham</th>\n",
              "      <td>Birmingham</td>\n",
              "    </tr>\n",
              "    <tr>\n",
              "      <th>Amridge University</th>\n",
              "      <td>Montgomery</td>\n",
              "    </tr>\n",
              "    <tr>\n",
              "      <th>University of Alabama in Huntsville</th>\n",
              "      <td>Huntsville</td>\n",
              "    </tr>\n",
              "    <tr>\n",
              "      <th>Alabama State University</th>\n",
              "      <td>Montgomery</td>\n",
              "    </tr>\n",
              "  </tbody>\n",
              "</table>\n",
              "</div><br><label><b>dtype:</b> object</label>"
            ]
          },
          "metadata": {},
          "execution_count": 12
        }
      ]
    },
    {
      "cell_type": "markdown",
      "source": [
        "11 使用iloc[ ] 搭配位置slicing來做相同的事"
      ],
      "metadata": {
        "id": "516VGFDP7lno"
      }
    },
    {
      "cell_type": "code",
      "source": [
        "city.iloc[0:5]"
      ],
      "metadata": {
        "colab": {
          "base_uri": "https://localhost:8080/",
          "height": 272
        },
        "id": "l2HqEke27fhy",
        "outputId": "957cb931-5363-4f68-9f9c-a0179100ec13"
      },
      "execution_count": 13,
      "outputs": [
        {
          "output_type": "execute_result",
          "data": {
            "text/plain": [
              "INSTNM\n",
              "Alabama A & M University                   Normal\n",
              "University of Alabama at Birmingham    Birmingham\n",
              "Amridge University                     Montgomery\n",
              "University of Alabama in Huntsville    Huntsville\n",
              "Alabama State University               Montgomery\n",
              "Name: CITY, dtype: object"
            ],
            "text/html": [
              "<div>\n",
              "<style scoped>\n",
              "    .dataframe tbody tr th:only-of-type {\n",
              "        vertical-align: middle;\n",
              "    }\n",
              "\n",
              "    .dataframe tbody tr th {\n",
              "        vertical-align: top;\n",
              "    }\n",
              "\n",
              "    .dataframe thead th {\n",
              "        text-align: right;\n",
              "    }\n",
              "</style>\n",
              "<table border=\"1\" class=\"dataframe\">\n",
              "  <thead>\n",
              "    <tr style=\"text-align: right;\">\n",
              "      <th></th>\n",
              "      <th>CITY</th>\n",
              "    </tr>\n",
              "    <tr>\n",
              "      <th>INSTNM</th>\n",
              "      <th></th>\n",
              "    </tr>\n",
              "  </thead>\n",
              "  <tbody>\n",
              "    <tr>\n",
              "      <th>Alabama A &amp; M University</th>\n",
              "      <td>Normal</td>\n",
              "    </tr>\n",
              "    <tr>\n",
              "      <th>University of Alabama at Birmingham</th>\n",
              "      <td>Birmingham</td>\n",
              "    </tr>\n",
              "    <tr>\n",
              "      <th>Amridge University</th>\n",
              "      <td>Montgomery</td>\n",
              "    </tr>\n",
              "    <tr>\n",
              "      <th>University of Alabama in Huntsville</th>\n",
              "      <td>Huntsville</td>\n",
              "    </tr>\n",
              "    <tr>\n",
              "      <th>Alabama State University</th>\n",
              "      <td>Montgomery</td>\n",
              "    </tr>\n",
              "  </tbody>\n",
              "</table>\n",
              "</div><br><label><b>dtype:</b> object</label>"
            ]
          },
          "metadata": {},
          "execution_count": 13
        }
      ]
    },
    {
      "cell_type": "markdown",
      "source": [
        "12 用isin()判斷城市座落在Birmingham或Montgomery的大學，傳回一個boolean series"
      ],
      "metadata": {
        "id": "O_Oj1X-X8Jla"
      }
    },
    {
      "cell_type": "code",
      "source": [
        "alabama_mask = city.isin(['Birmingham','Montgomery'])\n",
        "alabama_mask"
      ],
      "metadata": {
        "colab": {
          "base_uri": "https://localhost:8080/",
          "height": 489
        },
        "id": "l8tEPSAt7war",
        "outputId": "4b9e19de-9ac0-477e-a6c9-d4b6e846221f"
      },
      "execution_count": 14,
      "outputs": [
        {
          "output_type": "execute_result",
          "data": {
            "text/plain": [
              "INSTNM\n",
              "Alabama A & M University                                  False\n",
              "University of Alabama at Birmingham                        True\n",
              "Amridge University                                         True\n",
              "University of Alabama in Huntsville                       False\n",
              "Alabama State University                                   True\n",
              "                                                          ...  \n",
              "SAE Institute of Technology  San Francisco                False\n",
              "Rasmussen College - Overland Park                         False\n",
              "National Personal Training Institute of Cleveland         False\n",
              "Bay Area Medical Academy - San Jose Satellite Location    False\n",
              "Excel Learning Center-San Antonio South                   False\n",
              "Name: CITY, Length: 7535, dtype: bool"
            ],
            "text/html": [
              "<div>\n",
              "<style scoped>\n",
              "    .dataframe tbody tr th:only-of-type {\n",
              "        vertical-align: middle;\n",
              "    }\n",
              "\n",
              "    .dataframe tbody tr th {\n",
              "        vertical-align: top;\n",
              "    }\n",
              "\n",
              "    .dataframe thead th {\n",
              "        text-align: right;\n",
              "    }\n",
              "</style>\n",
              "<table border=\"1\" class=\"dataframe\">\n",
              "  <thead>\n",
              "    <tr style=\"text-align: right;\">\n",
              "      <th></th>\n",
              "      <th>CITY</th>\n",
              "    </tr>\n",
              "    <tr>\n",
              "      <th>INSTNM</th>\n",
              "      <th></th>\n",
              "    </tr>\n",
              "  </thead>\n",
              "  <tbody>\n",
              "    <tr>\n",
              "      <th>Alabama A &amp; M University</th>\n",
              "      <td>False</td>\n",
              "    </tr>\n",
              "    <tr>\n",
              "      <th>University of Alabama at Birmingham</th>\n",
              "      <td>True</td>\n",
              "    </tr>\n",
              "    <tr>\n",
              "      <th>Amridge University</th>\n",
              "      <td>True</td>\n",
              "    </tr>\n",
              "    <tr>\n",
              "      <th>University of Alabama in Huntsville</th>\n",
              "      <td>False</td>\n",
              "    </tr>\n",
              "    <tr>\n",
              "      <th>Alabama State University</th>\n",
              "      <td>True</td>\n",
              "    </tr>\n",
              "    <tr>\n",
              "      <th>...</th>\n",
              "      <td>...</td>\n",
              "    </tr>\n",
              "    <tr>\n",
              "      <th>SAE Institute of Technology  San Francisco</th>\n",
              "      <td>False</td>\n",
              "    </tr>\n",
              "    <tr>\n",
              "      <th>Rasmussen College - Overland Park</th>\n",
              "      <td>False</td>\n",
              "    </tr>\n",
              "    <tr>\n",
              "      <th>National Personal Training Institute of Cleveland</th>\n",
              "      <td>False</td>\n",
              "    </tr>\n",
              "    <tr>\n",
              "      <th>Bay Area Medical Academy - San Jose Satellite Location</th>\n",
              "      <td>False</td>\n",
              "    </tr>\n",
              "    <tr>\n",
              "      <th>Excel Learning Center-San Antonio South</th>\n",
              "      <td>False</td>\n",
              "    </tr>\n",
              "  </tbody>\n",
              "</table>\n",
              "<p>7535 rows × 1 columns</p>\n",
              "</div><br><label><b>dtype:</b> bool</label>"
            ]
          },
          "metadata": {},
          "execution_count": 14
        }
      ]
    },
    {
      "cell_type": "code",
      "source": [
        "city[alabama_mask]"
      ],
      "metadata": {
        "colab": {
          "base_uri": "https://localhost:8080/",
          "height": 930
        },
        "id": "6vE_HduI82d0",
        "outputId": "d39f8587-1bdc-4dc5-ef5d-ddeabd8e1c17"
      },
      "execution_count": 15,
      "outputs": [
        {
          "output_type": "execute_result",
          "data": {
            "text/plain": [
              "INSTNM\n",
              "University of Alabama at Birmingham                 Birmingham\n",
              "Amridge University                                  Montgomery\n",
              "Alabama State University                            Montgomery\n",
              "Auburn University at Montgomery                     Montgomery\n",
              "Birmingham Southern College                         Birmingham\n",
              "South University-Montgomery                         Montgomery\n",
              "Faulkner University                                 Montgomery\n",
              "Herzing University-Birmingham                       Birmingham\n",
              "Huntingdon College                                  Montgomery\n",
              "Jefferson State Community College                   Birmingham\n",
              "Lawson State Community College-Birmingham Campus    Birmingham\n",
              "Samford University                                  Birmingham\n",
              "Southeastern Bible College                          Birmingham\n",
              "H Councill Trenholm State Community College         Montgomery\n",
              "West Virginia University Institute of Technology    Montgomery\n",
              "Virginia College-Birmingham                         Birmingham\n",
              "Southeastern School of Cosmetology                  Birmingham\n",
              "Strayer University-Alabama                          Birmingham\n",
              "University of Phoenix-Alabama                       Birmingham\n",
              "Virginia College-Montgomery                         Montgomery\n",
              "Fortis College-Montgomery                           Montgomery\n",
              "Fortis Institute-Birmingham                         Birmingham\n",
              "Hair Academy                                        Montgomery\n",
              "Brown Mackie College-Birmingham                     Birmingham\n",
              "Nunation School of Cosmetology                      Birmingham\n",
              "Troy University-Montgomery Campus                   Montgomery\n",
              "Name: CITY, dtype: object"
            ],
            "text/html": [
              "<div>\n",
              "<style scoped>\n",
              "    .dataframe tbody tr th:only-of-type {\n",
              "        vertical-align: middle;\n",
              "    }\n",
              "\n",
              "    .dataframe tbody tr th {\n",
              "        vertical-align: top;\n",
              "    }\n",
              "\n",
              "    .dataframe thead th {\n",
              "        text-align: right;\n",
              "    }\n",
              "</style>\n",
              "<table border=\"1\" class=\"dataframe\">\n",
              "  <thead>\n",
              "    <tr style=\"text-align: right;\">\n",
              "      <th></th>\n",
              "      <th>CITY</th>\n",
              "    </tr>\n",
              "    <tr>\n",
              "      <th>INSTNM</th>\n",
              "      <th></th>\n",
              "    </tr>\n",
              "  </thead>\n",
              "  <tbody>\n",
              "    <tr>\n",
              "      <th>University of Alabama at Birmingham</th>\n",
              "      <td>Birmingham</td>\n",
              "    </tr>\n",
              "    <tr>\n",
              "      <th>Amridge University</th>\n",
              "      <td>Montgomery</td>\n",
              "    </tr>\n",
              "    <tr>\n",
              "      <th>Alabama State University</th>\n",
              "      <td>Montgomery</td>\n",
              "    </tr>\n",
              "    <tr>\n",
              "      <th>Auburn University at Montgomery</th>\n",
              "      <td>Montgomery</td>\n",
              "    </tr>\n",
              "    <tr>\n",
              "      <th>Birmingham Southern College</th>\n",
              "      <td>Birmingham</td>\n",
              "    </tr>\n",
              "    <tr>\n",
              "      <th>South University-Montgomery</th>\n",
              "      <td>Montgomery</td>\n",
              "    </tr>\n",
              "    <tr>\n",
              "      <th>Faulkner University</th>\n",
              "      <td>Montgomery</td>\n",
              "    </tr>\n",
              "    <tr>\n",
              "      <th>Herzing University-Birmingham</th>\n",
              "      <td>Birmingham</td>\n",
              "    </tr>\n",
              "    <tr>\n",
              "      <th>Huntingdon College</th>\n",
              "      <td>Montgomery</td>\n",
              "    </tr>\n",
              "    <tr>\n",
              "      <th>Jefferson State Community College</th>\n",
              "      <td>Birmingham</td>\n",
              "    </tr>\n",
              "    <tr>\n",
              "      <th>Lawson State Community College-Birmingham Campus</th>\n",
              "      <td>Birmingham</td>\n",
              "    </tr>\n",
              "    <tr>\n",
              "      <th>Samford University</th>\n",
              "      <td>Birmingham</td>\n",
              "    </tr>\n",
              "    <tr>\n",
              "      <th>Southeastern Bible College</th>\n",
              "      <td>Birmingham</td>\n",
              "    </tr>\n",
              "    <tr>\n",
              "      <th>H Councill Trenholm State Community College</th>\n",
              "      <td>Montgomery</td>\n",
              "    </tr>\n",
              "    <tr>\n",
              "      <th>West Virginia University Institute of Technology</th>\n",
              "      <td>Montgomery</td>\n",
              "    </tr>\n",
              "    <tr>\n",
              "      <th>Virginia College-Birmingham</th>\n",
              "      <td>Birmingham</td>\n",
              "    </tr>\n",
              "    <tr>\n",
              "      <th>Southeastern School of Cosmetology</th>\n",
              "      <td>Birmingham</td>\n",
              "    </tr>\n",
              "    <tr>\n",
              "      <th>Strayer University-Alabama</th>\n",
              "      <td>Birmingham</td>\n",
              "    </tr>\n",
              "    <tr>\n",
              "      <th>University of Phoenix-Alabama</th>\n",
              "      <td>Birmingham</td>\n",
              "    </tr>\n",
              "    <tr>\n",
              "      <th>Virginia College-Montgomery</th>\n",
              "      <td>Montgomery</td>\n",
              "    </tr>\n",
              "    <tr>\n",
              "      <th>Fortis College-Montgomery</th>\n",
              "      <td>Montgomery</td>\n",
              "    </tr>\n",
              "    <tr>\n",
              "      <th>Fortis Institute-Birmingham</th>\n",
              "      <td>Birmingham</td>\n",
              "    </tr>\n",
              "    <tr>\n",
              "      <th>Hair Academy</th>\n",
              "      <td>Montgomery</td>\n",
              "    </tr>\n",
              "    <tr>\n",
              "      <th>Brown Mackie College-Birmingham</th>\n",
              "      <td>Birmingham</td>\n",
              "    </tr>\n",
              "    <tr>\n",
              "      <th>Nunation School of Cosmetology</th>\n",
              "      <td>Birmingham</td>\n",
              "    </tr>\n",
              "    <tr>\n",
              "      <th>Troy University-Montgomery Campus</th>\n",
              "      <td>Montgomery</td>\n",
              "    </tr>\n",
              "  </tbody>\n",
              "</table>\n",
              "</div><br><label><b>dtype:</b> object</label>"
            ]
          },
          "metadata": {},
          "execution_count": 15
        }
      ]
    },
    {
      "cell_type": "markdown",
      "source": [
        "了解更多:用Tuple來尋找欄位資料"
      ],
      "metadata": {
        "id": "D9Hpqrsy-e7y"
      }
    },
    {
      "cell_type": "code",
      "source": [
        "college.head()"
      ],
      "metadata": {
        "colab": {
          "base_uri": "https://localhost:8080/",
          "height": 477
        },
        "id": "NPUXC8Ih_QWt",
        "outputId": "fbd2fb40-2bcb-4024-8227-4deadcc1124e"
      },
      "execution_count": 23,
      "outputs": [
        {
          "output_type": "execute_result",
          "data": {
            "text/plain": [
              "                                           CITY STABBR  HBCU  MENONLY  \\\n",
              "INSTNM                                                                  \n",
              "Alabama A & M University                 Normal     AL   1.0      0.0   \n",
              "University of Alabama at Birmingham  Birmingham     AL   0.0      0.0   \n",
              "Amridge University                   Montgomery     AL   0.0      0.0   \n",
              "University of Alabama in Huntsville  Huntsville     AL   0.0      0.0   \n",
              "Alabama State University             Montgomery     AL   1.0      0.0   \n",
              "\n",
              "                                     WOMENONLY  RELAFFIL  SATVRMID  SATMTMID  \\\n",
              "INSTNM                                                                         \n",
              "Alabama A & M University                   0.0         0     424.0     420.0   \n",
              "University of Alabama at Birmingham        0.0         0     570.0     565.0   \n",
              "Amridge University                         0.0         1       NaN       NaN   \n",
              "University of Alabama in Huntsville        0.0         0     595.0     590.0   \n",
              "Alabama State University                   0.0         0     425.0     430.0   \n",
              "\n",
              "                                     DISTANCEONLY     UGDS  ...  UGDS_2MOR  \\\n",
              "INSTNM                                                      ...              \n",
              "Alabama A & M University                      0.0   4206.0  ...     0.0000   \n",
              "University of Alabama at Birmingham           0.0  11383.0  ...     0.0368   \n",
              "Amridge University                            1.0    291.0  ...     0.0000   \n",
              "University of Alabama in Huntsville           0.0   5451.0  ...     0.0172   \n",
              "Alabama State University                      0.0   4811.0  ...     0.0098   \n",
              "\n",
              "                                     UGDS_NRA  UGDS_UNKN  PPTUG_EF  CURROPER  \\\n",
              "INSTNM                                                                         \n",
              "Alabama A & M University               0.0059     0.0138    0.0656         1   \n",
              "University of Alabama at Birmingham    0.0179     0.0100    0.2607         1   \n",
              "Amridge University                     0.0000     0.2715    0.4536         1   \n",
              "University of Alabama in Huntsville    0.0332     0.0350    0.2146         1   \n",
              "Alabama State University               0.0243     0.0137    0.0892         1   \n",
              "\n",
              "                                     PCTPELL  PCTFLOAN  UG25ABV  \\\n",
              "INSTNM                                                            \n",
              "Alabama A & M University              0.7356    0.8284   0.1049   \n",
              "University of Alabama at Birmingham   0.3460    0.5214   0.2422   \n",
              "Amridge University                    0.6801    0.7795   0.8540   \n",
              "University of Alabama in Huntsville   0.3072    0.4596   0.2640   \n",
              "Alabama State University              0.7347    0.7554   0.1270   \n",
              "\n",
              "                                     MD_EARN_WNE_P10  GRAD_DEBT_MDN_SUPP  \n",
              "INSTNM                                                                    \n",
              "Alabama A & M University                       30300               33888  \n",
              "University of Alabama at Birmingham            39700             21941.5  \n",
              "Amridge University                             40100               23370  \n",
              "University of Alabama in Huntsville            45500               24097  \n",
              "Alabama State University                       26600             33118.5  \n",
              "\n",
              "[5 rows x 26 columns]"
            ],
            "text/html": [
              "\n",
              "  <div id=\"df-9ce8fe8c-7144-4a8d-8a8e-d49d42cd1391\" class=\"colab-df-container\">\n",
              "    <div>\n",
              "<style scoped>\n",
              "    .dataframe tbody tr th:only-of-type {\n",
              "        vertical-align: middle;\n",
              "    }\n",
              "\n",
              "    .dataframe tbody tr th {\n",
              "        vertical-align: top;\n",
              "    }\n",
              "\n",
              "    .dataframe thead th {\n",
              "        text-align: right;\n",
              "    }\n",
              "</style>\n",
              "<table border=\"1\" class=\"dataframe\">\n",
              "  <thead>\n",
              "    <tr style=\"text-align: right;\">\n",
              "      <th></th>\n",
              "      <th>CITY</th>\n",
              "      <th>STABBR</th>\n",
              "      <th>HBCU</th>\n",
              "      <th>MENONLY</th>\n",
              "      <th>WOMENONLY</th>\n",
              "      <th>RELAFFIL</th>\n",
              "      <th>SATVRMID</th>\n",
              "      <th>SATMTMID</th>\n",
              "      <th>DISTANCEONLY</th>\n",
              "      <th>UGDS</th>\n",
              "      <th>...</th>\n",
              "      <th>UGDS_2MOR</th>\n",
              "      <th>UGDS_NRA</th>\n",
              "      <th>UGDS_UNKN</th>\n",
              "      <th>PPTUG_EF</th>\n",
              "      <th>CURROPER</th>\n",
              "      <th>PCTPELL</th>\n",
              "      <th>PCTFLOAN</th>\n",
              "      <th>UG25ABV</th>\n",
              "      <th>MD_EARN_WNE_P10</th>\n",
              "      <th>GRAD_DEBT_MDN_SUPP</th>\n",
              "    </tr>\n",
              "    <tr>\n",
              "      <th>INSTNM</th>\n",
              "      <th></th>\n",
              "      <th></th>\n",
              "      <th></th>\n",
              "      <th></th>\n",
              "      <th></th>\n",
              "      <th></th>\n",
              "      <th></th>\n",
              "      <th></th>\n",
              "      <th></th>\n",
              "      <th></th>\n",
              "      <th></th>\n",
              "      <th></th>\n",
              "      <th></th>\n",
              "      <th></th>\n",
              "      <th></th>\n",
              "      <th></th>\n",
              "      <th></th>\n",
              "      <th></th>\n",
              "      <th></th>\n",
              "      <th></th>\n",
              "      <th></th>\n",
              "    </tr>\n",
              "  </thead>\n",
              "  <tbody>\n",
              "    <tr>\n",
              "      <th>Alabama A &amp; M University</th>\n",
              "      <td>Normal</td>\n",
              "      <td>AL</td>\n",
              "      <td>1.0</td>\n",
              "      <td>0.0</td>\n",
              "      <td>0.0</td>\n",
              "      <td>0</td>\n",
              "      <td>424.0</td>\n",
              "      <td>420.0</td>\n",
              "      <td>0.0</td>\n",
              "      <td>4206.0</td>\n",
              "      <td>...</td>\n",
              "      <td>0.0000</td>\n",
              "      <td>0.0059</td>\n",
              "      <td>0.0138</td>\n",
              "      <td>0.0656</td>\n",
              "      <td>1</td>\n",
              "      <td>0.7356</td>\n",
              "      <td>0.8284</td>\n",
              "      <td>0.1049</td>\n",
              "      <td>30300</td>\n",
              "      <td>33888</td>\n",
              "    </tr>\n",
              "    <tr>\n",
              "      <th>University of Alabama at Birmingham</th>\n",
              "      <td>Birmingham</td>\n",
              "      <td>AL</td>\n",
              "      <td>0.0</td>\n",
              "      <td>0.0</td>\n",
              "      <td>0.0</td>\n",
              "      <td>0</td>\n",
              "      <td>570.0</td>\n",
              "      <td>565.0</td>\n",
              "      <td>0.0</td>\n",
              "      <td>11383.0</td>\n",
              "      <td>...</td>\n",
              "      <td>0.0368</td>\n",
              "      <td>0.0179</td>\n",
              "      <td>0.0100</td>\n",
              "      <td>0.2607</td>\n",
              "      <td>1</td>\n",
              "      <td>0.3460</td>\n",
              "      <td>0.5214</td>\n",
              "      <td>0.2422</td>\n",
              "      <td>39700</td>\n",
              "      <td>21941.5</td>\n",
              "    </tr>\n",
              "    <tr>\n",
              "      <th>Amridge University</th>\n",
              "      <td>Montgomery</td>\n",
              "      <td>AL</td>\n",
              "      <td>0.0</td>\n",
              "      <td>0.0</td>\n",
              "      <td>0.0</td>\n",
              "      <td>1</td>\n",
              "      <td>NaN</td>\n",
              "      <td>NaN</td>\n",
              "      <td>1.0</td>\n",
              "      <td>291.0</td>\n",
              "      <td>...</td>\n",
              "      <td>0.0000</td>\n",
              "      <td>0.0000</td>\n",
              "      <td>0.2715</td>\n",
              "      <td>0.4536</td>\n",
              "      <td>1</td>\n",
              "      <td>0.6801</td>\n",
              "      <td>0.7795</td>\n",
              "      <td>0.8540</td>\n",
              "      <td>40100</td>\n",
              "      <td>23370</td>\n",
              "    </tr>\n",
              "    <tr>\n",
              "      <th>University of Alabama in Huntsville</th>\n",
              "      <td>Huntsville</td>\n",
              "      <td>AL</td>\n",
              "      <td>0.0</td>\n",
              "      <td>0.0</td>\n",
              "      <td>0.0</td>\n",
              "      <td>0</td>\n",
              "      <td>595.0</td>\n",
              "      <td>590.0</td>\n",
              "      <td>0.0</td>\n",
              "      <td>5451.0</td>\n",
              "      <td>...</td>\n",
              "      <td>0.0172</td>\n",
              "      <td>0.0332</td>\n",
              "      <td>0.0350</td>\n",
              "      <td>0.2146</td>\n",
              "      <td>1</td>\n",
              "      <td>0.3072</td>\n",
              "      <td>0.4596</td>\n",
              "      <td>0.2640</td>\n",
              "      <td>45500</td>\n",
              "      <td>24097</td>\n",
              "    </tr>\n",
              "    <tr>\n",
              "      <th>Alabama State University</th>\n",
              "      <td>Montgomery</td>\n",
              "      <td>AL</td>\n",
              "      <td>1.0</td>\n",
              "      <td>0.0</td>\n",
              "      <td>0.0</td>\n",
              "      <td>0</td>\n",
              "      <td>425.0</td>\n",
              "      <td>430.0</td>\n",
              "      <td>0.0</td>\n",
              "      <td>4811.0</td>\n",
              "      <td>...</td>\n",
              "      <td>0.0098</td>\n",
              "      <td>0.0243</td>\n",
              "      <td>0.0137</td>\n",
              "      <td>0.0892</td>\n",
              "      <td>1</td>\n",
              "      <td>0.7347</td>\n",
              "      <td>0.7554</td>\n",
              "      <td>0.1270</td>\n",
              "      <td>26600</td>\n",
              "      <td>33118.5</td>\n",
              "    </tr>\n",
              "  </tbody>\n",
              "</table>\n",
              "<p>5 rows × 26 columns</p>\n",
              "</div>\n",
              "    <div class=\"colab-df-buttons\">\n",
              "\n",
              "  <div class=\"colab-df-container\">\n",
              "    <button class=\"colab-df-convert\" onclick=\"convertToInteractive('df-9ce8fe8c-7144-4a8d-8a8e-d49d42cd1391')\"\n",
              "            title=\"Convert this dataframe to an interactive table.\"\n",
              "            style=\"display:none;\">\n",
              "\n",
              "  <svg xmlns=\"http://www.w3.org/2000/svg\" height=\"24px\" viewBox=\"0 -960 960 960\">\n",
              "    <path d=\"M120-120v-720h720v720H120Zm60-500h600v-160H180v160Zm220 220h160v-160H400v160Zm0 220h160v-160H400v160ZM180-400h160v-160H180v160Zm440 0h160v-160H620v160ZM180-180h160v-160H180v160Zm440 0h160v-160H620v160Z\"/>\n",
              "  </svg>\n",
              "    </button>\n",
              "\n",
              "  <style>\n",
              "    .colab-df-container {\n",
              "      display:flex;\n",
              "      gap: 12px;\n",
              "    }\n",
              "\n",
              "    .colab-df-convert {\n",
              "      background-color: #E8F0FE;\n",
              "      border: none;\n",
              "      border-radius: 50%;\n",
              "      cursor: pointer;\n",
              "      display: none;\n",
              "      fill: #1967D2;\n",
              "      height: 32px;\n",
              "      padding: 0 0 0 0;\n",
              "      width: 32px;\n",
              "    }\n",
              "\n",
              "    .colab-df-convert:hover {\n",
              "      background-color: #E2EBFA;\n",
              "      box-shadow: 0px 1px 2px rgba(60, 64, 67, 0.3), 0px 1px 3px 1px rgba(60, 64, 67, 0.15);\n",
              "      fill: #174EA6;\n",
              "    }\n",
              "\n",
              "    .colab-df-buttons div {\n",
              "      margin-bottom: 4px;\n",
              "    }\n",
              "\n",
              "    [theme=dark] .colab-df-convert {\n",
              "      background-color: #3B4455;\n",
              "      fill: #D2E3FC;\n",
              "    }\n",
              "\n",
              "    [theme=dark] .colab-df-convert:hover {\n",
              "      background-color: #434B5C;\n",
              "      box-shadow: 0px 1px 3px 1px rgba(0, 0, 0, 0.15);\n",
              "      filter: drop-shadow(0px 1px 2px rgba(0, 0, 0, 0.3));\n",
              "      fill: #FFFFFF;\n",
              "    }\n",
              "  </style>\n",
              "\n",
              "    <script>\n",
              "      const buttonEl =\n",
              "        document.querySelector('#df-9ce8fe8c-7144-4a8d-8a8e-d49d42cd1391 button.colab-df-convert');\n",
              "      buttonEl.style.display =\n",
              "        google.colab.kernel.accessAllowed ? 'block' : 'none';\n",
              "\n",
              "      async function convertToInteractive(key) {\n",
              "        const element = document.querySelector('#df-9ce8fe8c-7144-4a8d-8a8e-d49d42cd1391');\n",
              "        const dataTable =\n",
              "          await google.colab.kernel.invokeFunction('convertToInteractive',\n",
              "                                                    [key], {});\n",
              "        if (!dataTable) return;\n",
              "\n",
              "        const docLinkHtml = 'Like what you see? Visit the ' +\n",
              "          '<a target=\"_blank\" href=https://colab.research.google.com/notebooks/data_table.ipynb>data table notebook</a>'\n",
              "          + ' to learn more about interactive tables.';\n",
              "        element.innerHTML = '';\n",
              "        dataTable['output_type'] = 'display_data';\n",
              "        await google.colab.output.renderOutput(dataTable, element);\n",
              "        const docLink = document.createElement('div');\n",
              "        docLink.innerHTML = docLinkHtml;\n",
              "        element.appendChild(docLink);\n",
              "      }\n",
              "    </script>\n",
              "  </div>\n",
              "\n",
              "\n",
              "<div id=\"df-b5274343-f2e0-4721-9187-c1433c23d4e1\">\n",
              "  <button class=\"colab-df-quickchart\" onclick=\"quickchart('df-b5274343-f2e0-4721-9187-c1433c23d4e1')\"\n",
              "            title=\"Suggest charts\"\n",
              "            style=\"display:none;\">\n",
              "\n",
              "<svg xmlns=\"http://www.w3.org/2000/svg\" height=\"24px\"viewBox=\"0 0 24 24\"\n",
              "     width=\"24px\">\n",
              "    <g>\n",
              "        <path d=\"M19 3H5c-1.1 0-2 .9-2 2v14c0 1.1.9 2 2 2h14c1.1 0 2-.9 2-2V5c0-1.1-.9-2-2-2zM9 17H7v-7h2v7zm4 0h-2V7h2v10zm4 0h-2v-4h2v4z\"/>\n",
              "    </g>\n",
              "</svg>\n",
              "  </button>\n",
              "\n",
              "<style>\n",
              "  .colab-df-quickchart {\n",
              "      --bg-color: #E8F0FE;\n",
              "      --fill-color: #1967D2;\n",
              "      --hover-bg-color: #E2EBFA;\n",
              "      --hover-fill-color: #174EA6;\n",
              "      --disabled-fill-color: #AAA;\n",
              "      --disabled-bg-color: #DDD;\n",
              "  }\n",
              "\n",
              "  [theme=dark] .colab-df-quickchart {\n",
              "      --bg-color: #3B4455;\n",
              "      --fill-color: #D2E3FC;\n",
              "      --hover-bg-color: #434B5C;\n",
              "      --hover-fill-color: #FFFFFF;\n",
              "      --disabled-bg-color: #3B4455;\n",
              "      --disabled-fill-color: #666;\n",
              "  }\n",
              "\n",
              "  .colab-df-quickchart {\n",
              "    background-color: var(--bg-color);\n",
              "    border: none;\n",
              "    border-radius: 50%;\n",
              "    cursor: pointer;\n",
              "    display: none;\n",
              "    fill: var(--fill-color);\n",
              "    height: 32px;\n",
              "    padding: 0;\n",
              "    width: 32px;\n",
              "  }\n",
              "\n",
              "  .colab-df-quickchart:hover {\n",
              "    background-color: var(--hover-bg-color);\n",
              "    box-shadow: 0 1px 2px rgba(60, 64, 67, 0.3), 0 1px 3px 1px rgba(60, 64, 67, 0.15);\n",
              "    fill: var(--button-hover-fill-color);\n",
              "  }\n",
              "\n",
              "  .colab-df-quickchart-complete:disabled,\n",
              "  .colab-df-quickchart-complete:disabled:hover {\n",
              "    background-color: var(--disabled-bg-color);\n",
              "    fill: var(--disabled-fill-color);\n",
              "    box-shadow: none;\n",
              "  }\n",
              "\n",
              "  .colab-df-spinner {\n",
              "    border: 2px solid var(--fill-color);\n",
              "    border-color: transparent;\n",
              "    border-bottom-color: var(--fill-color);\n",
              "    animation:\n",
              "      spin 1s steps(1) infinite;\n",
              "  }\n",
              "\n",
              "  @keyframes spin {\n",
              "    0% {\n",
              "      border-color: transparent;\n",
              "      border-bottom-color: var(--fill-color);\n",
              "      border-left-color: var(--fill-color);\n",
              "    }\n",
              "    20% {\n",
              "      border-color: transparent;\n",
              "      border-left-color: var(--fill-color);\n",
              "      border-top-color: var(--fill-color);\n",
              "    }\n",
              "    30% {\n",
              "      border-color: transparent;\n",
              "      border-left-color: var(--fill-color);\n",
              "      border-top-color: var(--fill-color);\n",
              "      border-right-color: var(--fill-color);\n",
              "    }\n",
              "    40% {\n",
              "      border-color: transparent;\n",
              "      border-right-color: var(--fill-color);\n",
              "      border-top-color: var(--fill-color);\n",
              "    }\n",
              "    60% {\n",
              "      border-color: transparent;\n",
              "      border-right-color: var(--fill-color);\n",
              "    }\n",
              "    80% {\n",
              "      border-color: transparent;\n",
              "      border-right-color: var(--fill-color);\n",
              "      border-bottom-color: var(--fill-color);\n",
              "    }\n",
              "    90% {\n",
              "      border-color: transparent;\n",
              "      border-bottom-color: var(--fill-color);\n",
              "    }\n",
              "  }\n",
              "</style>\n",
              "\n",
              "  <script>\n",
              "    async function quickchart(key) {\n",
              "      const quickchartButtonEl =\n",
              "        document.querySelector('#' + key + ' button');\n",
              "      quickchartButtonEl.disabled = true;  // To prevent multiple clicks.\n",
              "      quickchartButtonEl.classList.add('colab-df-spinner');\n",
              "      try {\n",
              "        const charts = await google.colab.kernel.invokeFunction(\n",
              "            'suggestCharts', [key], {});\n",
              "      } catch (error) {\n",
              "        console.error('Error during call to suggestCharts:', error);\n",
              "      }\n",
              "      quickchartButtonEl.classList.remove('colab-df-spinner');\n",
              "      quickchartButtonEl.classList.add('colab-df-quickchart-complete');\n",
              "    }\n",
              "    (() => {\n",
              "      let quickchartButtonEl =\n",
              "        document.querySelector('#df-b5274343-f2e0-4721-9187-c1433c23d4e1 button');\n",
              "      quickchartButtonEl.style.display =\n",
              "        google.colab.kernel.accessAllowed ? 'block' : 'none';\n",
              "    })();\n",
              "  </script>\n",
              "</div>\n",
              "\n",
              "    </div>\n",
              "  </div>\n"
            ],
            "application/vnd.google.colaboratory.intrinsic+json": {
              "type": "dataframe",
              "variable_name": "college"
            }
          },
          "metadata": {},
          "execution_count": 23
        }
      ]
    },
    {
      "cell_type": "markdown",
      "source": [],
      "metadata": {
        "id": "ab3lhE50_PlB"
      }
    },
    {
      "cell_type": "code",
      "source": [
        "college.loc['Alabama A & M University','CITY'] #先取列，後取欄"
      ],
      "metadata": {
        "colab": {
          "base_uri": "https://localhost:8080/",
          "height": 35
        },
        "id": "o2Lvi3jI-mVQ",
        "outputId": "0a1238e0-7bd2-4c8a-b13b-4e4ed7a25dfa"
      },
      "execution_count": 16,
      "outputs": [
        {
          "output_type": "execute_result",
          "data": {
            "text/plain": [
              "'Normal'"
            ],
            "application/vnd.google.colaboratory.intrinsic+json": {
              "type": "string"
            }
          },
          "metadata": {},
          "execution_count": 16
        }
      ]
    },
    {
      "cell_type": "code",
      "source": [
        "college.iloc[0,0]"
      ],
      "metadata": {
        "colab": {
          "base_uri": "https://localhost:8080/",
          "height": 35
        },
        "id": "V559Rr9D-0LK",
        "outputId": "c8eb2135-67e2-47c3-c977-133020c194e1"
      },
      "execution_count": 26,
      "outputs": [
        {
          "output_type": "execute_result",
          "data": {
            "text/plain": [
              "'Normal'"
            ],
            "application/vnd.google.colaboratory.intrinsic+json": {
              "type": "string"
            }
          },
          "metadata": {},
          "execution_count": 26
        }
      ]
    },
    {
      "cell_type": "code",
      "source": [
        "college.loc[['Alabama A & M University','University of Alabama in Huntsville'],'CITY']"
      ],
      "metadata": {
        "colab": {
          "base_uri": "https://localhost:8080/",
          "height": 178
        },
        "id": "Ujik4aj5_ghQ",
        "outputId": "ca0e40cd-c620-419c-972d-5b8abf0f3801"
      },
      "execution_count": 28,
      "outputs": [
        {
          "output_type": "execute_result",
          "data": {
            "text/plain": [
              "INSTNM\n",
              "Alabama A & M University                   Normal\n",
              "University of Alabama in Huntsville    Huntsville\n",
              "Name: CITY, dtype: object"
            ],
            "text/html": [
              "<div>\n",
              "<style scoped>\n",
              "    .dataframe tbody tr th:only-of-type {\n",
              "        vertical-align: middle;\n",
              "    }\n",
              "\n",
              "    .dataframe tbody tr th {\n",
              "        vertical-align: top;\n",
              "    }\n",
              "\n",
              "    .dataframe thead th {\n",
              "        text-align: right;\n",
              "    }\n",
              "</style>\n",
              "<table border=\"1\" class=\"dataframe\">\n",
              "  <thead>\n",
              "    <tr style=\"text-align: right;\">\n",
              "      <th></th>\n",
              "      <th>CITY</th>\n",
              "    </tr>\n",
              "    <tr>\n",
              "      <th>INSTNM</th>\n",
              "      <th></th>\n",
              "    </tr>\n",
              "  </thead>\n",
              "  <tbody>\n",
              "    <tr>\n",
              "      <th>Alabama A &amp; M University</th>\n",
              "      <td>Normal</td>\n",
              "    </tr>\n",
              "    <tr>\n",
              "      <th>University of Alabama in Huntsville</th>\n",
              "      <td>Huntsville</td>\n",
              "    </tr>\n",
              "  </tbody>\n",
              "</table>\n",
              "</div><br><label><b>dtype:</b> object</label>"
            ]
          },
          "metadata": {},
          "execution_count": 28
        }
      ]
    },
    {
      "cell_type": "code",
      "source": [
        "college.iloc[[0,4],0]"
      ],
      "metadata": {
        "colab": {
          "base_uri": "https://localhost:8080/",
          "height": 178
        },
        "id": "dIbK5BKn_2Q8",
        "outputId": "2a3f2205-c468-4075-a10f-5d030541e51b"
      },
      "execution_count": 29,
      "outputs": [
        {
          "output_type": "execute_result",
          "data": {
            "text/plain": [
              "INSTNM\n",
              "Alabama A & M University        Normal\n",
              "Alabama State University    Montgomery\n",
              "Name: CITY, dtype: object"
            ],
            "text/html": [
              "<div>\n",
              "<style scoped>\n",
              "    .dataframe tbody tr th:only-of-type {\n",
              "        vertical-align: middle;\n",
              "    }\n",
              "\n",
              "    .dataframe tbody tr th {\n",
              "        vertical-align: top;\n",
              "    }\n",
              "\n",
              "    .dataframe thead th {\n",
              "        text-align: right;\n",
              "    }\n",
              "</style>\n",
              "<table border=\"1\" class=\"dataframe\">\n",
              "  <thead>\n",
              "    <tr style=\"text-align: right;\">\n",
              "      <th></th>\n",
              "      <th>CITY</th>\n",
              "    </tr>\n",
              "    <tr>\n",
              "      <th>INSTNM</th>\n",
              "      <th></th>\n",
              "    </tr>\n",
              "  </thead>\n",
              "  <tbody>\n",
              "    <tr>\n",
              "      <th>Alabama A &amp; M University</th>\n",
              "      <td>Normal</td>\n",
              "    </tr>\n",
              "    <tr>\n",
              "      <th>Alabama State University</th>\n",
              "      <td>Montgomery</td>\n",
              "    </tr>\n",
              "  </tbody>\n",
              "</table>\n",
              "</div><br><label><b>dtype:</b> object</label>"
            ]
          },
          "metadata": {},
          "execution_count": 29
        }
      ]
    },
    {
      "cell_type": "code",
      "source": [
        "college.loc['Alabama A & M University':'Alabama State University','CITY']"
      ],
      "metadata": {
        "colab": {
          "base_uri": "https://localhost:8080/",
          "height": 272
        },
        "id": "xMKHT4A2_9rY",
        "outputId": "781875cb-baca-4f97-c9de-0f59a6fefc77"
      },
      "execution_count": 30,
      "outputs": [
        {
          "output_type": "execute_result",
          "data": {
            "text/plain": [
              "INSTNM\n",
              "Alabama A & M University                   Normal\n",
              "University of Alabama at Birmingham    Birmingham\n",
              "Amridge University                     Montgomery\n",
              "University of Alabama in Huntsville    Huntsville\n",
              "Alabama State University               Montgomery\n",
              "Name: CITY, dtype: object"
            ],
            "text/html": [
              "<div>\n",
              "<style scoped>\n",
              "    .dataframe tbody tr th:only-of-type {\n",
              "        vertical-align: middle;\n",
              "    }\n",
              "\n",
              "    .dataframe tbody tr th {\n",
              "        vertical-align: top;\n",
              "    }\n",
              "\n",
              "    .dataframe thead th {\n",
              "        text-align: right;\n",
              "    }\n",
              "</style>\n",
              "<table border=\"1\" class=\"dataframe\">\n",
              "  <thead>\n",
              "    <tr style=\"text-align: right;\">\n",
              "      <th></th>\n",
              "      <th>CITY</th>\n",
              "    </tr>\n",
              "    <tr>\n",
              "      <th>INSTNM</th>\n",
              "      <th></th>\n",
              "    </tr>\n",
              "  </thead>\n",
              "  <tbody>\n",
              "    <tr>\n",
              "      <th>Alabama A &amp; M University</th>\n",
              "      <td>Normal</td>\n",
              "    </tr>\n",
              "    <tr>\n",
              "      <th>University of Alabama at Birmingham</th>\n",
              "      <td>Birmingham</td>\n",
              "    </tr>\n",
              "    <tr>\n",
              "      <th>Amridge University</th>\n",
              "      <td>Montgomery</td>\n",
              "    </tr>\n",
              "    <tr>\n",
              "      <th>University of Alabama in Huntsville</th>\n",
              "      <td>Huntsville</td>\n",
              "    </tr>\n",
              "    <tr>\n",
              "      <th>Alabama State University</th>\n",
              "      <td>Montgomery</td>\n",
              "    </tr>\n",
              "  </tbody>\n",
              "</table>\n",
              "</div><br><label><b>dtype:</b> object</label>"
            ]
          },
          "metadata": {},
          "execution_count": 30
        }
      ]
    },
    {
      "cell_type": "code",
      "source": [
        "college.iloc[0:5,0]"
      ],
      "metadata": {
        "colab": {
          "base_uri": "https://localhost:8080/",
          "height": 272
        },
        "id": "OcIKPeeoAJ_R",
        "outputId": "59557c03-42e2-44a9-fa7b-87b015227b99"
      },
      "execution_count": 31,
      "outputs": [
        {
          "output_type": "execute_result",
          "data": {
            "text/plain": [
              "INSTNM\n",
              "Alabama A & M University                   Normal\n",
              "University of Alabama at Birmingham    Birmingham\n",
              "Amridge University                     Montgomery\n",
              "University of Alabama in Huntsville    Huntsville\n",
              "Alabama State University               Montgomery\n",
              "Name: CITY, dtype: object"
            ],
            "text/html": [
              "<div>\n",
              "<style scoped>\n",
              "    .dataframe tbody tr th:only-of-type {\n",
              "        vertical-align: middle;\n",
              "    }\n",
              "\n",
              "    .dataframe tbody tr th {\n",
              "        vertical-align: top;\n",
              "    }\n",
              "\n",
              "    .dataframe thead th {\n",
              "        text-align: right;\n",
              "    }\n",
              "</style>\n",
              "<table border=\"1\" class=\"dataframe\">\n",
              "  <thead>\n",
              "    <tr style=\"text-align: right;\">\n",
              "      <th></th>\n",
              "      <th>CITY</th>\n",
              "    </tr>\n",
              "    <tr>\n",
              "      <th>INSTNM</th>\n",
              "      <th></th>\n",
              "    </tr>\n",
              "  </thead>\n",
              "  <tbody>\n",
              "    <tr>\n",
              "      <th>Alabama A &amp; M University</th>\n",
              "      <td>Normal</td>\n",
              "    </tr>\n",
              "    <tr>\n",
              "      <th>University of Alabama at Birmingham</th>\n",
              "      <td>Birmingham</td>\n",
              "    </tr>\n",
              "    <tr>\n",
              "      <th>Amridge University</th>\n",
              "      <td>Montgomery</td>\n",
              "    </tr>\n",
              "    <tr>\n",
              "      <th>University of Alabama in Huntsville</th>\n",
              "      <td>Huntsville</td>\n",
              "    </tr>\n",
              "    <tr>\n",
              "      <th>Alabama State University</th>\n",
              "      <td>Montgomery</td>\n",
              "    </tr>\n",
              "  </tbody>\n",
              "</table>\n",
              "</div><br><label><b>dtype:</b> object</label>"
            ]
          },
          "metadata": {},
          "execution_count": 31
        }
      ]
    }
  ]
}